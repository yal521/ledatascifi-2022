{
 "cells": [
  {
   "cell_type": "markdown",
   "id": "6a7ab652-d43a-4244-96c9-b18dbd44dc63",
   "metadata": {},
   "source": [
    "# Setting up\n",
    "\n",
    "Eventually, the folder for this class on your computer will look like something like this:"
   ]
  },
  {
   "cell_type": "markdown",
   "id": "3054c8d7-61cc-4cfd-b6bf-60bc786c73b7",
   "metadata": {},
   "source": [
    "```\n",
    "FIN377\n",
    "└───LeDatSciFi-2022\n",
    "│   ... <-- has lots o'stuff in it\n",
    "│\n",
    "└───ASGN01-donbowen <-- whatever your GH username is\n",
    "│   ... <-- has lots o'stuff in it\n",
    "│\n",
    "└───Class Notes <-- organize as you want, here is suggestion:\n",
    "│   README.md\n",
    "│   .gitignore\n",
    "│   Module 1 Notes.ipynb\n",
    "│   Module 2 Notes.ipynb\n",
    "│   │\n",
    "│   └───exercises <-- a place to put worksheet files\n",
    "│   │\n",
    "│   └───handouts <-- you can copy handouts here\n",
    "│   │\n",
    "│   └───learning python <-- you can add folders  place to put\n",
    "│       │   some_practice_stuff.py\n",
    "│       │   more_practice_stuff.py\n",
    "│       │   ...\n",
    "│\n",
    "... <-- more future assignment and project folders\n",
    "\n",
    "```\n"
   ]
  },
  {
   "cell_type": "markdown",
   "id": "c6eb8c27-5ec9-4a46-adf9-1155585d8675",
   "metadata": {},
   "source": [
    "## Let's go!\n",
    "\n",
    "After the steps below, you will be ready to work on assignment 1, and work on problems in class. As a bonus, doing these will also teach you a lot about using GitHub in the process, but also check out the [textbook's chapter's on it (1.3-1.4).](https://ledatascifi.github.io/ledatascifi-2022/content/01/03_github.html#necessary-skills)\n",
    "\n",
    "Before you start these, you need to have completed [the setup steps](https://ledatascifi.github.io/ledatascifi-2022/content/01/02_Setup.html). "
   ]
  },
  {
   "cell_type": "markdown",
   "id": "16882bec-9482-4384-af8f-81e91a568539",
   "metadata": {
    "jp-MarkdownHeadingCollapsed": true,
    "tags": []
   },
   "source": [
    "1. Pick a place on your computer to store your work from this class. Put a folder there called FIN377. \n",
    "    - It's your call where. Some students use the GitHub folder created by GitHub Desktop. Some use the desktop. Some put it inside their school folder. \n",
    "1. **Let's download the textbook (ledatascifi-2022).** This will make it easy as Py for you to download handouts, lecture slides, etc:\n",
    "    1. Open GitHub Desktop (GH-D) and click File > \"Clone repository\"\n",
    "    1. In the pop up: Go to the URL tab. Put \"ledatascifi/ledatascifi-2022\" in the first line. In the second line, put the path to your FIN377 folder. Click clone.\n",
    "    1. After it downloads (slow the first time), you can quickly download new lecture slides, handouts etc. by clicking \"Fetch Origin\". \n",
    "    1. **Note: Don't work on handouts in this folder, \"because I can overwrite it.\" Instead, copy the handouts to your own notes folder, and work there.**\n",
    "    1. [Here is a good trick](https://ledatascifi.github.io/ledatascifi-2022/content/01/05_jupyterlab.html#a-good-trick-how-do-i-copy-code-from-one-file-to-another) you can use to quickly copy code from the textbook (or anywhere) into notes (or your assignment files)\n",
    "1. **Let's make a repo for your class notes inside the 377 folder.** Call it \"Class Notes\"    \n",
    "    1. Copy FIN 377/LeDatSciFi-2022/Handouts/Module 1 notes.ipynb (which is on your computer now) into it\n",
    "    1. Open GH-D. File > New Repository. In that popup:\n",
    "    1. Name: Class Notes\n",
    "    1. Local Path: ...FIN 377 (stop at FIN 377)\n",
    "    1. Click box to initialize with a README\n",
    "    1. In the gitignore, I would select python\n",
    "    1. Click \"publish\", then \"publish again\" (Yes, keep this code private)\n",
    "1. To modify a repo in the cloud (sometimes the fastest way to change things)    \n",
    "    1. Go to the webpage of your class notes repo. (One way: In GH-D, make sure your class notes repo is selected in the upper left. Then click Repository > View on GitHub)\n",
    "    1. Click on the pencil next to the readme\n",
    "    2. This is the \"front page\" of your repo, so let's make it useful to visitors (including future you!)\n",
    "    3. Type your name. \n",
    "    4. \"Commit\" the changes to \"save\" it. See your name when you look at the README online?\n",
    "    5. Now go to your class notes folder _on your computer_. Open the README.md file (in a text editor like Notepad). See - your name is missing! We need to download the changes _from the website to your computer_. \n",
    "    6. Close the README file you just opened. Go to GH-D, and click \"Fetch origin\" to download any changes made. Reopen the readme file and you should see your name!\n",
    "1. To work on a file on your computer and save that work to the repo in the cloud:\n",
    "    1. Open the README.md file from your class notes. Copy the text below into it. \n",
    "    \n",
    "        ```\n",
    "        Key links:\n",
    "        - [The main website](https://ledatascifi.github.io)\n",
    "        - [The dashboard](https://ledatascifi.github.io/ledatascifi-2022/content/about/schedule.html)\n",
    "        - [Tips](https://ledatascifi.github.io/ledatascifi-2022/content/about/tips.html)\n",
    "        - [Help](https://ledatascifi.github.io/ledatascifi-2022/content/about/help.html)\n",
    "        - [The LDSF org](https://github.com/orgs/LeDataSciFi)\n",
    "        - [Announcements, discussions, and help](https://github.com/orgs/LeDataSciFi/teams/classmates-2022)\n",
    "        - [Lecture files (e.g. \"powerpoints\")](https://github.com/LeDataSciFi/ledatascifi-2022/tree/main/lectures)\n",
    "        ```\n",
    "    \n",
    "    1. Save the file. \n",
    "    1. Open GH-D, and you'll see it's detected changes to that file. In the \"summary\" box, add a note about what you're doing (makes it easier to see contributions to work, go back in time, etc).\n",
    "    1. Click the blue \"commit\" button and then \"push\"\n",
    "    1. Look at the repo on the website (refresh the page), and you'll see the changes! \n",
    "    1. You can use this readme to store useful links as you wish. \n",
    "\n",
    "1. **Let's start the assignment.**\n",
    "    1. Click on the assignment link in coursesite and follow the prompts.\n",
    "    1. Read the instructions/instructions.md file once the repo is created.\n",
    "    1. Open GitHub Desktop (GH-D) and click File > \"Clone repository\"\n",
    "    1. Under the \"GitHub.com\" tab, you should see that repo. Make sure the local path ends at you FIN377 folder.\n",
    "    1. Clone it.\n",
    "    1. Now you can begin working on the assignment!\n",
    "1. Read the [GitHub workflow!](https://ledatascifi.github.io/ledatascifi-2022/content/01/03a_githubworkflow.html) You should do these three things repeatedly as you work, and it's good to get into the habit starting now.\n",
    "1. Practice: Sometimes it is useful to download a single file off a repo anywhere on GitHub to your computer.\n",
    "    1. Go to any repo, and click on any file. \n",
    "    1. On the next page that opens, right click the “Raw” button and “Save Link As”.\n",
    "    1. You can save it to your downloads folder, doesn't matter. The point is to see how to do this.      \n",
    "1. Optional exercises: https://ledatascifi.github.io/ledatascifi-2022/content/01/03_github.html#optional-exercises    "
   ]
  }
 ],
 "metadata": {
  "kernelspec": {
   "display_name": "Python 3 (ipykernel)",
   "language": "python",
   "name": "python3"
  },
  "language_info": {
   "codemirror_mode": {
    "name": "ipython",
    "version": 3
   },
   "file_extension": ".py",
   "mimetype": "text/x-python",
   "name": "python",
   "nbconvert_exporter": "python",
   "pygments_lexer": "ipython3",
   "version": "3.9.7"
  }
 },
 "nbformat": 4,
 "nbformat_minor": 5
}
