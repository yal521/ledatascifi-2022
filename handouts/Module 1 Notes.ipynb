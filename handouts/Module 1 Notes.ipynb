{
 "cells": [
  {
   "cell_type": "markdown",
   "id": "934846a2-cf16-4335-bd06-c7e4c498eee8",
   "metadata": {},
   "source": [
    "# Module 1 - GitHub, JLab, Python, Good Habits\n",
    "\n",
    "_My suggested use for this file is as an extra tab you keep open on the right side of your JupyterLab screen, and treat it like a notepad you'd use in a classroom. The left half of the screen will be good for files that have involved coding that should be stand alone files._\n",
    "\n",
    "## Skills to learn in this Module \n",
    "\n",
    "You can find the tasks for this module [on the dashboard page]. \n",
    "\n",
    "Note: You can use this as a checklist if you want. Just put an \"x\" in the brackets, like `[x]`:\n",
    "- [x] See? All done!\n",
    "\n",
    "Below are the skills I want you to learn in this module in _roughly_ the order we will cover them\n",
    "- [ ] GitHub skills \n",
    "    - [ ] create a own repo on GitHub (start a project) \n",
    "    - [ ] clone a repo off GitHub to our computers (get ready to work on it) \n",
    "    - [ ] **work on that repo on our computer and sync it to GitHub, using the** [**GitHub Workflow - fetch, commit, push**](03a_githubworkflow)  \n",
    "    - [ ] use the classmates team page\n",
    "    - [ ] open an issue in a repo to get help  \n",
    "    - [ ] know what a good `README` file does and can look like - [I _personally_ like this one](https://GitHub.com/donbowen/BFH) but take a quick look at [this  list of awesome readmes](https://GitHub.com/matiassingers/awesome-readme) for inspiration \n",
    "    - [ ] [know what the `.gitignore` file in our repos is and how/why to use it ](09_gitignore) \n",
    "- [ ] Jupyter lab skills \n",
    "    - [ ] write nicely formatted text in Markdown\n",
    "    - [ ] switch cells from code to markdown and back\n",
    "    - [ ] write and execute code \n",
    "    - [ ] Using shift tab and help resources (1.6.2)\n",
    "    - [ ] get used to using keyboard shortcuts (Chapter 1.6.3)    \n",
    "- [ ] Python skills \n",
    "    - [ ] Work through 1.7 before trying Assignment 1, including the exercises\n",
    "    - [ ] Know the main object types: ints, booleans, floats, lists, strings, and dictionaries\n",
    "    - [ ] Accessing elements within a list and string  \n",
    "    - [ ] Calling functions on objects via the dot syntax  \n",
    "    - [ ] Using documentation to understand how to use a function (pick one function, look up documentation)\n",
    "    - [ ] Possibly: Print out a good python cheatsheet to keep on your desk (backup: revisit Chapter 1.7!)\n"
   ]
  },
  {
   "cell_type": "markdown",
   "id": "92c622e7-94fc-42fb-8d60-3eb070be5b07",
   "metadata": {},
   "source": [
    "## GitHub Lessons"
   ]
  },
  {
   "cell_type": "markdown",
   "id": "88569d7e-97e5-4bcf-bdaa-40984180d051",
   "metadata": {},
   "source": [
    "the block below is just me getting you started..."
   ]
  },
  {
   "cell_type": "markdown",
   "id": "3392bd3e-2a77-4456-b549-8517b21a8686",
   "metadata": {},
   "source": [
    "- Before and after each class, fetch the ledatascifi-2022 repo to get the latest slides and exercises. \n",
    "    - Note: Don't modify any files in this repo! Copy exercises files OUT of the folder to work on them.\n",
    "- When you start work on assignments (every day)\n",
    "    1. **Fetch** the repo in GH-D\n",
    "    1. Every once in a while: Save files you're working on in whatever program you're using, then go to GH-D and tell GH-D to save the changes by **\"commit\"** ing them there. \n",
    "    1. **Push** the commit so that your work is backed up. (I do this right after every commit because it's easy.)\n",
    "- When you take notes - do the same!\n",
    "    1. **Fetch** the repo in GH-D\n",
    "    1. Every once in a while: Save files you're working on in whatever program you're using, then go to GH-D and tell GH-D to save the changes by **\"commit\"** ing them there. \n",
    "    1. **Push** the commit so that your work is backed up. (I do this right after every commit because it's easy.)    "
   ]
  },
  {
   "cell_type": "code",
   "execution_count": null,
   "id": "d3e1097f-12f7-4860-8b07-d0050800e0f3",
   "metadata": {},
   "outputs": [],
   "source": [
    "you can add more github notes here"
   ]
  },
  {
   "cell_type": "markdown",
   "id": "57aade34-b0f7-40ec-b761-7d11dc493f9f",
   "metadata": {},
   "source": [
    "## Jupyter Lab Notes"
   ]
  },
  {
   "cell_type": "code",
   "execution_count": null,
   "id": "6ccb6cea-bef0-4be8-a4f5-57be0ee8e2e7",
   "metadata": {},
   "outputs": [],
   "source": [
    "put your notes here"
   ]
  },
  {
   "cell_type": "markdown",
   "id": "e074dbc8-3d08-459d-ad39-5b479e38f6d3",
   "metadata": {},
   "source": [
    "## Python Notes"
   ]
  },
  {
   "cell_type": "code",
   "execution_count": null,
   "id": "4155a170-55d7-4c84-aedf-09ab96953474",
   "metadata": {},
   "outputs": [],
   "source": [
    "put your notes here"
   ]
  },
  {
   "cell_type": "markdown",
   "id": "c8bbb8a6-2a5f-4080-8af2-37fd3470d078",
   "metadata": {},
   "source": [
    "## Good Habit Notes"
   ]
  },
  {
   "cell_type": "markdown",
   "id": "dba41ddd-fdfe-4a0d-8283-9d97966dc854",
   "metadata": {},
   "source": [
    "copy the table from 2.2 of the textbook here! you can use this trick to copy it quickly: https://ledatascifi.github.io/ledatascifi-2022/content/01/05_jupyterlab.html?highlight=youtube#a-good-trick-how-do-i-copy-code-from-one-file-to-another"
   ]
  }
 ],
 "metadata": {
  "kernelspec": {
   "display_name": "Python 3 (ipykernel)",
   "language": "python",
   "name": "python3"
  },
  "language_info": {
   "codemirror_mode": {
    "name": "ipython",
    "version": 3
   },
   "file_extension": ".py",
   "mimetype": "text/x-python",
   "name": "python",
   "nbconvert_exporter": "python",
   "pygments_lexer": "ipython3",
   "version": "3.9.7"
  }
 },
 "nbformat": 4,
 "nbformat_minor": 5
}
