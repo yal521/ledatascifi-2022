{
 "cells": [
  {
   "cell_type": "markdown",
   "metadata": {},
   "source": [
    "# Before class\n",
    "\n",
    "## Go to ledatascifi.github.io and then to chapter 1.2\n",
    "## 1. Make sure you have a github account\n",
    "## 2. Have git and github desktop on your computer"
   ]
  },
  {
   "cell_type": "markdown",
   "metadata": {
    "slideshow": {
     "slide_type": "slide"
    },
    "tags": []
   },
   "source": [
    "# Hello everyone!\n",
    "\n",
    "Today, lets\n",
    "1. Finish all of your CAPM projects for all your finance classes for the rest of your college life in 3 minutes\n",
    "1. Do an auction to learn how to save \\$381m per quarter\n",
    "1. Learn how we're all connected\n",
    "1. Get our hands dirty!\n",
    "\n",
    "Ambitious, but fun; This class in miniature!"
   ]
  },
  {
   "cell_type": "markdown",
   "metadata": {
    "slideshow": {
     "slide_type": "slide"
    },
    "tags": []
   },
   "source": [
    "## Motivation \n",
    "\n",
    "Where  $V$ is the NPV of your education, $B$ is biz/econ skills, and $T$ is the technical skills covered in this class:\n",
    "\n",
    "1. $\\delta V/\\delta B > 0$ (good choice in your major!)\n",
    "1. $\\delta V/\\delta T > 0$, and $\\delta T$ is achievable\n",
    "1. $\\delta^2 V/\\delta T \\delta B > 0$ is important but overlooked"
   ]
  },
  {
   "cell_type": "markdown",
   "metadata": {
    "slideshow": {
     "slide_type": "fragment"
    },
    "tags": []
   },
   "source": [
    "On \\#2: Who has estimated beta for a stock in FIN323, FIN328, or FIN335?"
   ]
  },
  {
   "cell_type": "markdown",
   "metadata": {
    "slideshow": {
     "slide_type": "fragment"
    },
    "tags": []
   },
   "source": [
    "On \\#3: Let's play a game! _(Unmute your mics now)_\n",
    "- Raise your hand if you've ever bid in an auction"
   ]
  },
  {
   "cell_type": "markdown",
   "metadata": {
    "slideshow": {
     "slide_type": "subslide"
    },
    "tags": []
   },
   "source": [
    "## Terms of the auction"
   ]
  },
  {
   "cell_type": "markdown",
   "metadata": {
    "slideshow": {
     "slide_type": "fragment"
    },
    "tags": []
   },
   "source": [
    "1. I will bring a \\$20 bill to class next week and give it to the winner\n",
    "1. Bids in \\$1 increments\n",
    "1. The winner pays what they bid, and the 2nd place player pays what _they_ bid"
   ]
  },
  {
   "cell_type": "markdown",
   "metadata": {
    "slideshow": {
     "slide_type": "subslide"
    },
    "tags": []
   },
   "source": [
    "## What did you learn from that auction?\n"
   ]
  },
  {
   "cell_type": "markdown",
   "metadata": {
    "slideshow": {
     "slide_type": "fragment"
    },
    "tags": []
   },
   "source": [
    "There are only 2 ways to avoid \"death spiral\": \n",
    "1. [The Star Trek solve: Turn win-loss into no-win](https://en.wikipedia.org/wiki/Kobayashi_Maru): split the \\$18 gain from incrementing the bid  \n",
    "1. [The War Games solve: \"The only winning move is not to play\"](https://www.youtube.com/watch?v=6DGNZnfKYnU)\n",
    "\n"
   ]
  },
  {
   "cell_type": "markdown",
   "metadata": {
    "slideshow": {
     "slide_type": "subslide"
    },
    "tags": []
   },
   "source": [
    "The two solutions have commonalities:\n",
    "1. **Plan before doing:** [\"Measure twice, cut once\"](https://thisbugslife.com/2021/10/27/what-happened-to-measure-twice-cut-once/)\n",
    "    - Think about big pic! Especially important on coding tasks where it's easy to get lost in minutiae...\n",
    "    - What's the economics of the situation?\n",
    "1. **The problem dictates the tool!** _I'm **very** excited about [skills](https://ledatascifi.github.io/ledatascifi-2022/content/about/objectives.html) you will learn in this class... but when you have a hammer everything looks like a nail!_\n",
    "    - Here, valuation isn't the tool you need! It's game theory.\n"
   ]
  },
  {
   "cell_type": "markdown",
   "metadata": {
    "slideshow": {
     "slide_type": "subslide"
    },
    "tags": []
   },
   "source": [
    "## \"That's silly!\" Fine.. let's look at a real auction\n",
    "\n",
    "Well... thousands of them. Enter: Zillow.\n",
    "\n",
    "1. Zillow's plan: Predict price _Zillow_ can sell the house for, offer to buy for less, <do stuff quickly\\>, sell\n",
    "1. Profit hopes: liquidity provision, price appreciation \n",
    "1. Economics: \n",
    "    - Have to outbid other buyers (Winner's curse)\n",
    "    - Home owner knows most about the house! (Asym. Info)   "
   ]
  },
  {
   "cell_type": "markdown",
   "metadata": {
    "slideshow": {
     "slide_type": "fragment"
    },
    "tags": []
   },
   "source": [
    "<img src=\"https://pbs.twimg.com/media/FDUNc8XXMAAC83j?format=jpg&name=small\" width=\"50%\"/>"
   ]
  },
  {
   "cell_type": "markdown",
   "metadata": {
    "slideshow": {
     "slide_type": "subslide"
    },
    "tags": []
   },
   "source": [
    "## Outcome of Zillow's plan"
   ]
  },
  {
   "cell_type": "markdown",
   "metadata": {
    "slideshow": {
     "slide_type": "fragment"
    },
    "tags": []
   },
   "source": [
    "<img src=\"https://upload.wikimedia.org/wikipedia/commons/1/1c/Hindenburg_disaster.jpg\" width=\"50%\"/>"
   ]
  },
  {
   "cell_type": "markdown",
   "metadata": {
    "slideshow": {
     "slide_type": "fragment"
    },
    "tags": []
   },
   "source": [
    "Nov 2, 2021: Zillow (articles [here](https://github.com/LeDataSciFi/ledatascifi-2022/blob/main/handouts/ZIllow1.pdf) and [here](https://github.com/LeDataSciFi/ledatascifi-2022/blob/main/handouts/ZIllow2.pdf))\n",
    "- Lost \\$381m in 3Q alone flipping homes because algo was \"unable to predict prices\"\n",
    "- Cuts 25% of workers \n",
    "- Loses about \\$10B market cap in the week \n"
   ]
  },
  {
   "cell_type": "markdown",
   "metadata": {
    "slideshow": {
     "slide_type": "subslide"
    },
    "tags": []
   },
   "source": [
    "## Good valuation wasn't a good enough tool\n",
    "\n",
    "[Let's define a model, and let Zillow's valuation be 2x better than homeowners:](https://twitter.com/macrocephalopod/status/1455887352371597312?lang=en)\n",
    "1. True value of a house is $v$, with $v \\sim U[250,000, 2,500,000]$\n",
    "1. Owner's guess $v*(1+e_o)$, with $e_o \\sim N(0,10\\%)$\n",
    "1. Zillow's algo predicts $v*(1+e_z)$, with $e_z \\sim N(0,5\\%)$ \n",
    "1. Because of winner's curse and the transaction cost owners face moving, Zillow is only able to buy houses when it offers more than 20% above what the owner thinks the house is worth. **Talk about is adverse selection.** \n",
    "1. If Zillow buys the house, they subsequently sells the house at the true value. "
   ]
  },
  {
   "cell_type": "markdown",
   "metadata": {
    "slideshow": {
     "slide_type": "subslide"
    },
    "tags": []
   },
   "source": [
    "## What happens in this model?\n",
    "\n",
    "So, if Z looks at 100k houses with values uniformly ranging from 0.25m-2.5m, and the above steps play out... \n",
    "\n",
    "_(You can figure this out with under 30 lines of python)_"
   ]
  },
  {
   "cell_type": "markdown",
   "metadata": {
    "slideshow": {
     "slide_type": "fragment"
    },
    "tags": []
   },
   "source": [
    "### **It buys 6k houses and loses \\$300m!**"
   ]
  },
  {
   "cell_type": "markdown",
   "metadata": {
    "slideshow": {
     "slide_type": "subslide"
    },
    "tags": []
   },
   "source": [
    "## \"But hindsight is 20/20!\"\n",
    "\n",
    "Except... we didn't need hindsight. [An NBER working paper from 2020](https://twitter.com/arpitrage/status/1456639203568230401) discussed the issues this business model faces\n",
    "- Adv. selection is key, limits scope for profits\n",
    "- Profits plummet when liquidity is low (downturns)\n",
    "- Better valuation models don't help!\n",
    "- Winner's curse increases with competition\n",
    "- Front running: Zillow's valuations are public knowledge!\n"
   ]
  },
  {
   "cell_type": "markdown",
   "metadata": {
    "slideshow": {
     "slide_type": "subslide"
    },
    "tags": []
   },
   "source": [
    "## What do we learn?\n",
    "\n",
    "Recall, my three initial assertions:\n",
    "1. $\\delta V/\\delta B > 0$ (good choice in your major!)\n",
    "1. $\\delta V/\\delta T > 0$, and $\\delta T$ is achievable\n",
    "1. <mark> $\\delta^2 V/\\delta T \\delta B > 0$ is important but overlooked </mark>\n",
    "\n",
    "The Zillow case study illustrates the last one. \n",
    "\n",
    "The Zillow team got obsessed with the technical skills and how good their pricing model could be. A little attention to the business forces could have saved them a lot of money!\n"
   ]
  },
  {
   "cell_type": "markdown",
   "metadata": {
    "slideshow": {
     "slide_type": "subslide"
    },
    "tags": []
   },
   "source": [
    "##  The goal in this class is to both\n",
    "\n",
    "1. add some powerful skills to the bottom of your resume ($T \\uparrow$)\n",
    "1. think about how business settings impact the use of those skills ($T*B \\uparrow$)\n",
    "\n",
    "So that you get the good jobs, but avoid losing \\$381m!"
   ]
  },
  {
   "cell_type": "markdown",
   "metadata": {
    "slideshow": {
     "slide_type": "slide"
    },
    "tags": []
   },
   "source": [
    "## Onboarding\n",
    "\n",
    "If that sounds good (great?), let's continue:\n",
    "\n",
    "1. Icebreaker - chain \n",
    "1. Syllabus, norms, and expectations\n",
    "1. Getting going  \n"
   ]
  },
  {
   "cell_type": "markdown",
   "metadata": {
    "slideshow": {
     "slide_type": "subslide"
    },
    "tags": []
   },
   "source": [
    "## About me"
   ]
  },
  {
   "cell_type": "markdown",
   "metadata": {
    "slideshow": {
     "slide_type": "subslide"
    },
    "tags": []
   },
   "source": [
    "![](https://www.motownmuseum.org/wp-content/uploads/2021/01/mm_Hitsville_Campus_Photo-2-1024x819.jpg)"
   ]
  },
  {
   "cell_type": "markdown",
   "metadata": {
    "slideshow": {
     "slide_type": "subslide"
    },
    "tags": []
   },
   "source": [
    "![](img/convergence.png)"
   ]
  },
  {
   "cell_type": "markdown",
   "metadata": {
    "slideshow": {
     "slide_type": "subslide"
    },
    "tags": []
   },
   "source": [
    "![](img/inevitable.jpg)"
   ]
  },
  {
   "cell_type": "markdown",
   "metadata": {
    "slideshow": {
     "slide_type": "subslide"
    },
    "tags": []
   },
   "source": [
    "## About you\n",
    "\n",
    "1. Name\n",
    "1. Where you're from \n",
    "1. Year/program\n",
    "1. One thing about you"
   ]
  },
  {
   "cell_type": "markdown",
   "metadata": {
    "slideshow": {
     "slide_type": "subslide"
    },
    "tags": []
   },
   "source": [
    "![](https://worldmapblank.com/wp-content/uploads/2020/10/Labeled-Map-of-World.jpg)"
   ]
  },
  {
   "cell_type": "markdown",
   "metadata": {
    "slideshow": {
     "slide_type": "skip"
    },
    "tags": []
   },
   "source": [
    "first person: has anyone here been to france?\n",
    "where are you from? --> world map (it's up there somewhere)\n",
    "us states"
   ]
  },
  {
   "cell_type": "markdown",
   "metadata": {
    "slideshow": {
     "slide_type": "subslide"
    },
    "tags": []
   },
   "source": [
    "## Syllabus highlights\n",
    "- Read it! [Ledatascifi.github.io](Ledatascifi.github.io), then use right arrow to \"flip\" to next page \n",
    "- Course oriented towards skills in Objectives\n",
    "- Structure (read it)\n",
    "    - $E(Outcomes) = f(work)$, but lots of support\n",
    "    - [15 minute rule + help](https://ledatascifi.github.io/ledatascifi-2022/content/about/help.html)\n",
    "    - Announcements via on GitHub classmates team only! Coursesite is only for sharing private links and office hours.\n",
    "- Grades: \"Participation\" is big, many ways\n",
    "- **Dashboard: BOOKMARK IT!**\n",
    "- I'll be in class at least 10 min before and after class - please drop in to say hi \n",
    "\n"
   ]
  },
  {
   "cell_type": "markdown",
   "metadata": {
    "slideshow": {
     "slide_type": "subslide"
    },
    "tags": []
   },
   "source": [
    "## Norms\n",
    "\n",
    "- Please interrupt when you have a question!\n",
    "- Community: Help each other! (Especially in class, but not on assignments)\n",
    "- You can chat among yourselves **if** you are working through a problem together (DMs to me and others ok, chats to whole class ok)\n",
    "- The website and notes are not comprehensive - you can look around the web!\n",
    "- Help, resources, and hacks pages -- read them!\n",
    "\n"
   ]
  },
  {
   "cell_type": "markdown",
   "metadata": {
    "slideshow": {
     "slide_type": "slide"
    }
   },
   "source": [
    "## Enough already! Let's get going!\n",
    "\n",
    "This class depends heavily on GitHub, so let's jump in. \n",
    "\n",
    "GitHub is good for \n",
    "- cloud storage\n",
    "- collaboration\n",
    "- version control\n",
    "\n",
    "It's like Word's Track Changes had a baby with Dropbox, and it was marketed to and designed for software developers. "
   ]
  },
  {
   "cell_type": "markdown",
   "metadata": {
    "slideshow": {
     "slide_type": "fragment"
    },
    "tags": []
   },
   "source": [
    "![](img/weirdbaby.png)"
   ]
  },
  {
   "cell_type": "markdown",
   "metadata": {
    "slideshow": {
     "slide_type": "subslide"
    },
    "tags": []
   },
   "source": [
    "## Let's learn by doing\n",
    "\n",
    "(There is background info on the website, chapters 1.3-1.4.)\n",
    "\n",
    "1. You need a GitHub username. \n",
    "1. You need GitHub Desktop (GH-D)\n",
    "1. Click on the gradebook and assignment links in coursesite\n",
    "1. Follow the directions here: https://github.com/LeDataSciFi/ledatascifi-2022/blob/main/handouts/GitHub%20exercises.ipynb\n"
   ]
  },
  {
   "cell_type": "markdown",
   "metadata": {
    "slideshow": {
     "slide_type": "subslide"
    },
    "tags": []
   },
   "source": [
    "Before next time:\n",
    "1. Finish the GitHub exercises \n",
    "1. Finish tasks in the schedule https://ledatascifi.github.io/ledatascifi-2022/content/about/schedule.html \n",
    "1. Accept invite to the organization when you get the email.\n",
    "    - Go to [the classmates discussion board](https://github.com/orgs/LeDataSciFi/teams/classmates-2022), and click `Watch` to ensure you get announcements!\n",
    "    - _Notice in the grade section of the website: Posts and replies to the discussion board will help your grade._    \n",
    "    - Tag @classmates, @donbowen, @julioveracruz, or specific classmates in issue posts to get help\n",
    "    - If you don't get any email announcements by next Monday, email me - something is wrong!\n",
    "    - Post 2 truths and a lie in the introductions post\n",
    "    - Poll: What is my lie?\n",
    "3. Any questions you want to cover in the next class? Please let me know via the form on the dashboard page."
   ]
  }
 ],
 "metadata": {
  "celltoolbar": "Tags",
  "kernelspec": {
   "display_name": "Python 3 (ipykernel)",
   "language": "python",
   "name": "python3"
  },
  "language_info": {
   "codemirror_mode": {
    "name": "ipython",
    "version": 3
   },
   "file_extension": ".py",
   "mimetype": "text/x-python",
   "name": "python",
   "nbconvert_exporter": "python",
   "pygments_lexer": "ipython3",
   "version": "3.9.7"
  }
 },
 "nbformat": 4,
 "nbformat_minor": 4
}
